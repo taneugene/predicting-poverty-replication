{
 "cells": [
  {
   "cell_type": "markdown",
   "metadata": {},
   "source": [
    "This file uses a Python2 library from Github (https://github.com/vadimkantorov/caffemodel2pytorch) to convert Caffe models into PyTorch. The original model was trained with Caffe. Remarkably, you don't ever have to install caffe for it to work!\n",
    "\n",
    "I converted it to work on Python3.\n",
    "\n",
    "\n",
    "Run `merge_nps` to combine the files created in this script. I break the computation into pieces because sometimes the script fails partially through."
   ]
  },
  {
   "cell_type": "code",
   "execution_count": 1,
   "metadata": {},
   "outputs": [
    {
     "data": {
      "text/plain": [
       "True"
      ]
     },
     "execution_count": 1,
     "metadata": {},
     "output_type": "execute_result"
    }
   ],
   "source": [
    "from caffemodel2pytorch import *\n",
    "import torch\n",
    "torch.cuda.is_available()"
   ]
  },
  {
   "cell_type": "code",
   "execution_count": 2,
   "metadata": {},
   "outputs": [
    {
     "name": "stdout",
     "output_type": "stream",
     "text": [
      "caffemodel2pytorch: loading model from [predicting_poverty_trained.caffemodel] in HDF5 format failed [No module named 'h5py'], falling back to caffemodel format\n",
      "caffemodel2pytorch: loaded model from [predicting_poverty_trained.caffemodel] in caffemodel format\n"
     ]
    }
   ],
   "source": [
    "model = Net(\n",
    "    prototxt = 'predicting_poverty_deploy.prototxt',\n",
    "    weights = 'predicting_poverty_trained.caffemodel',\n",
    "    caffe_proto = 'https://raw.githubusercontent.com/BVLC/caffe/master/src/caffe/proto/caffe.proto'\n",
    ")"
   ]
  },
  {
   "cell_type": "code",
   "execution_count": 3,
   "metadata": {},
   "outputs": [
    {
     "data": {
      "text/plain": [
       "Net(\n",
       "  (conv1): Convolution(3, 64, kernel_size=(11, 11), stride=(4, 4))\n",
       "  (relu1): ReLU()\n",
       "  (norm1): LocalResponseNorm(5, alpha=0.0005, beta=0.75, k=1.0)\n",
       "  (pool1): MaxPool2d(kernel_size=3, stride=2, padding=0, dilation=1, ceil_mode=False)\n",
       "  (conv2): Convolution(64, 256, kernel_size=(5, 5), stride=(1, 1), padding=(2, 2))\n",
       "  (relu2): ReLU()\n",
       "  (norm2): LocalResponseNorm(5, alpha=0.0005, beta=0.75, k=1.0)\n",
       "  (pool2): MaxPool2d(kernel_size=3, stride=2, padding=0, dilation=1, ceil_mode=False)\n",
       "  (conv3): Convolution(256, 256, kernel_size=(3, 3), stride=(1, 1), padding=(1, 1))\n",
       "  (relu3): ReLU()\n",
       "  (conv4): Convolution(256, 256, kernel_size=(3, 3), stride=(1, 1), padding=(1, 1))\n",
       "  (relu4): ReLU()\n",
       "  (conv5): Convolution(256, 256, kernel_size=(3, 3), stride=(1, 1), padding=(1, 1))\n",
       "  (relu5): ReLU()\n",
       "  (pool5): MaxPool2d(kernel_size=3, stride=2, padding=0, dilation=1, ceil_mode=False)\n",
       "  (conv6): Convolution(256, 4096, kernel_size=(6, 6), stride=(6, 6))\n",
       "  (relu6): ReLU()\n",
       "  (conv7): Convolution(4096, 4096, kernel_size=(1, 1), stride=(1, 1))\n",
       "  (relu7): ReLU()\n",
       "  (conv8): Convolution(4096, 3, kernel_size=(1, 1), stride=(1, 1))\n",
       "  (pool6): AvgPool2d(kernel_size=2, stride=1, padding=0)\n",
       "  (prob): Softmax(dim=-1)\n",
       ")"
      ]
     },
     "execution_count": 3,
     "metadata": {},
     "output_type": "execute_result"
    }
   ],
   "source": [
    "model"
   ]
  },
  {
   "cell_type": "code",
   "execution_count": 4,
   "metadata": {},
   "outputs": [],
   "source": [
    "# we strip the last layers, so the output is just what was at the conv7 layer\n",
    "# the paper uses the data at this layer as the \"features\" for the image\n",
    "del model.prob, model.pool6, model.conv8, model.relu7"
   ]
  },
  {
   "cell_type": "code",
   "execution_count": 5,
   "metadata": {},
   "outputs": [
    {
     "data": {
      "text/plain": [
       "Net(\n",
       "  (conv1): Convolution(3, 64, kernel_size=(11, 11), stride=(4, 4))\n",
       "  (relu1): ReLU()\n",
       "  (norm1): LocalResponseNorm(5, alpha=0.0005, beta=0.75, k=1.0)\n",
       "  (pool1): MaxPool2d(kernel_size=3, stride=2, padding=0, dilation=1, ceil_mode=False)\n",
       "  (conv2): Convolution(64, 256, kernel_size=(5, 5), stride=(1, 1), padding=(2, 2))\n",
       "  (relu2): ReLU()\n",
       "  (norm2): LocalResponseNorm(5, alpha=0.0005, beta=0.75, k=1.0)\n",
       "  (pool2): MaxPool2d(kernel_size=3, stride=2, padding=0, dilation=1, ceil_mode=False)\n",
       "  (conv3): Convolution(256, 256, kernel_size=(3, 3), stride=(1, 1), padding=(1, 1))\n",
       "  (relu3): ReLU()\n",
       "  (conv4): Convolution(256, 256, kernel_size=(3, 3), stride=(1, 1), padding=(1, 1))\n",
       "  (relu4): ReLU()\n",
       "  (conv5): Convolution(256, 256, kernel_size=(3, 3), stride=(1, 1), padding=(1, 1))\n",
       "  (relu5): ReLU()\n",
       "  (pool5): MaxPool2d(kernel_size=3, stride=2, padding=0, dilation=1, ceil_mode=False)\n",
       "  (conv6): Convolution(256, 4096, kernel_size=(6, 6), stride=(6, 6))\n",
       "  (relu6): ReLU()\n",
       "  (conv7): Convolution(4096, 4096, kernel_size=(1, 1), stride=(1, 1))\n",
       ")"
      ]
     },
     "execution_count": 5,
     "metadata": {},
     "output_type": "execute_result"
    }
   ],
   "source": [
    "device = torch.device('cuda' if torch.cuda.is_available() else 'cpu')\n",
    "model.eval()\n",
    "model.to(device)"
   ]
  },
  {
   "cell_type": "code",
   "execution_count": 6,
   "metadata": {},
   "outputs": [],
   "source": [
    "from torchvision import datasets, models, transforms"
   ]
  },
  {
   "cell_type": "code",
   "execution_count": 7,
   "metadata": {},
   "outputs": [],
   "source": [
    "# turn the data into a PyTorch Tensor\n",
    "data_transforms = {\n",
    "    'transform': transforms.Compose([\n",
    "        transforms.ToTensor(),\n",
    "    ]),\n",
    "}"
   ]
  },
  {
   "cell_type": "code",
   "execution_count": 8,
   "metadata": {},
   "outputs": [],
   "source": [
    "import matplotlib.pyplot as plt\n",
    "from PIL import Image\n",
    "import numpy as np\n",
    "\n",
    "# takes a \n",
    "def filename_to_im_tensor(file):\n",
    "    im = plt.imread(file)[:,:,:3]\n",
    "    im = (im*256)\n",
    "    im -= np.array([103.334, 107.8797, 107.4072])\n",
    "    # convert to BGR, their Github code says to do this\n",
    "    input_img = im[:, :, [2, 1, 0]]\n",
    "    # convert to D,H,W\n",
    "    input_img = np.transpose(input_img, [2, 0, 1])\n",
    "    # subtract the mean to normalize the image, their Github code says to do this\n",
    "    mean_bgr = [103.334, 107.8797, 107.4072]\n",
    "    for i in range(0, 3):\n",
    "        input_img[i, :, :] = input_img[i, :, :] - mean_bgr[i]\n",
    "    \n",
    "    im = Image.fromarray(im.astype(np.uint8))\n",
    "    im = data_transforms['transform'](im)\n",
    "    return im[None].to(device)"
   ]
  },
  {
   "cell_type": "code",
   "execution_count": 9,
   "metadata": {},
   "outputs": [],
   "source": [
    "import os\n",
    "import glob"
   ]
  },
  {
   "cell_type": "code",
   "execution_count": 10,
   "metadata": {},
   "outputs": [
    {
     "data": {
      "text/plain": [
       "(['../process_data/data/ims_nigeria_2013/',\n",
       "  '../process_data/data/ims_tanzania_2011/',\n",
       "  '../process_data/data/ims_malawi_2016/',\n",
       "  '../process_data/data/ims_uganda_2011/'],\n",
       " ['nigeria_2013', 'tanzania_2011', 'malawi_2016', 'uganda_2011'])"
      ]
     },
     "execution_count": 10,
     "metadata": {},
     "output_type": "execute_result"
    }
   ],
   "source": [
    "dirlist = glob.glob('../process_data/data/ims_*/')\n",
    "countries = [fname[fname.find('ims_')+4:-1] for fname in dirlist]\n",
    "dirlist, countries"
   ]
  },
  {
   "cell_type": "code",
   "execution_count": null,
   "metadata": {},
   "outputs": [
    {
     "name": "stdout",
     "output_type": "stream",
     "text": [
      "../process_data/data/ims_nigeria_2013/\n",
      "../process_data/data/ims_nigeria_2013/{}\n",
      "100, 200, 300, 400, 500, 600, 700, 800, 900, 1000, 1100, 1200, 1300, 1400, 1500, 1600, 1700, 1800, 1900, 2000, 2100, 2200, 2300, 2400, 2500, 2600, 2700, 2800, 2900, 3000, 3100, 3200, 3300, 3400, 3500, 3600, 3700, 3800, 3900, "
     ]
    }
   ],
   "source": [
    "for c in countries: \n",
    "    image_dir = '../process_data/data/ims_{}/'.format(c)\n",
    "    print(image_dir)\n",
    "    ims = os.listdir(image_dir)\n",
    "    feats = np.zeros((len(ims), 4096))\n",
    "    i = 0\n",
    "    batch_size = 4\n",
    "    pre = image_dir+'{}'\n",
    "    print(pre)\n",
    "\n",
    "    # this approach uses batching and should offer a speed-up over passing one image at a time by nearly 10x\n",
    "    # runtime should be 5-7 minutes vs 45+ for a full forward pass\n",
    "    while i + batch_size < len(ims):\n",
    "        ims_as_tensors = torch.cat([filename_to_im_tensor(pre.format(ims[i+j])) for j in range(batch_size)], 0)\n",
    "        feats[i:i+batch_size,:] = np.squeeze(model(ims_as_tensors)['conv7'].cpu().detach().numpy())\n",
    "        i += batch_size\n",
    "        if i % 100 == 0:\n",
    "            print(i, end=', ')\n",
    "\n",
    "    # does the final batch of remaining images\n",
    "    if len(ims) - i != 0:\n",
    "        rem = len(ims) - i\n",
    "        ims_as_tensors = torch.cat([filename_to_im_tensor(pre.format(ims[i+j])) for j in range(rem)], 0)\n",
    "        feats[i:i+rem,:] = np.squeeze(model(ims_as_tensors)['conv7'].cpu().detach().numpy())\n",
    "        i += rem\n",
    "    np.save('{}_forward_feats.npy'.format(c), feats)"
   ]
  }
 ],
 "metadata": {
  "kernelspec": {
   "display_name": "geotorch",
   "language": "python",
   "name": "geotorch"
  },
  "language_info": {
   "codemirror_mode": {
    "name": "ipython",
    "version": 3
   },
   "file_extension": ".py",
   "mimetype": "text/x-python",
   "name": "python",
   "nbconvert_exporter": "python",
   "pygments_lexer": "ipython3",
   "version": "3.7.5"
  }
 },
 "nbformat": 4,
 "nbformat_minor": 2
}
