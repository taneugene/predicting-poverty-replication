{
 "cells": [
  {
   "cell_type": "markdown",
   "metadata": {},
   "source": [
    "Uses the files created using the scripts in `data` and sets up the whole training script."
   ]
  },
  {
   "cell_type": "code",
   "execution_count": 83,
   "metadata": {},
   "outputs": [],
   "source": [
    "import pandas as pd\n",
    "import numpy as np\n",
    "import os\n",
    "import glob\n",
    "import shutil"
   ]
  },
  {
   "cell_type": "code",
   "execution_count": 113,
   "metadata": {},
   "outputs": [
    {
     "name": "stdout",
     "output_type": "stream",
     "text": [
      "uganda_2011\n"
     ]
    }
   ],
   "source": [
    "runs = ['mw_2016','nigeria_2013','uganda_2011','tanzania_2011']\n",
    "run = runs[2]\n",
    "print(run)"
   ]
  },
  {
   "cell_type": "code",
   "execution_count": 132,
   "metadata": {},
   "outputs": [],
   "source": [
    "df_download = pd.read_csv('data/output/{}_download.csv'.format(run))\n",
    "df_download_info = pd.read_csv('data/output/{}_download_info.csv'.format(run))\n",
    "df_guide = pd.read_csv('data/output/{}_guide.csv'.format(run))"
   ]
  },
  {
   "cell_type": "code",
   "execution_count": 133,
   "metadata": {},
   "outputs": [
    {
     "name": "stdout",
     "output_type": "stream",
     "text": [
      "0\n"
     ]
    },
    {
     "data": {
      "text/html": [
       "<div>\n",
       "<style scoped>\n",
       "    .dataframe tbody tr th:only-of-type {\n",
       "        vertical-align: middle;\n",
       "    }\n",
       "\n",
       "    .dataframe tbody tr th {\n",
       "        vertical-align: top;\n",
       "    }\n",
       "\n",
       "    .dataframe thead th {\n",
       "        text-align: right;\n",
       "    }\n",
       "</style>\n",
       "<table border=\"1\" class=\"dataframe\">\n",
       "  <thead>\n",
       "    <tr style=\"text-align: right;\">\n",
       "      <th></th>\n",
       "      <th>im_lat</th>\n",
       "      <th>im_lon</th>\n",
       "      <th>clust_lat</th>\n",
       "      <th>clust_lon</th>\n",
       "      <th>nightlight</th>\n",
       "      <th>consumption</th>\n",
       "      <th>nightlight_bin</th>\n",
       "      <th>images</th>\n",
       "      <th>check</th>\n",
       "    </tr>\n",
       "  </thead>\n",
       "  <tbody>\n",
       "    <tr>\n",
       "      <th>0</th>\n",
       "      <td>-1.125000</td>\n",
       "      <td>29.574999</td>\n",
       "      <td>-1.150315</td>\n",
       "      <td>29.591431</td>\n",
       "      <td>0.0</td>\n",
       "      <td>2.033755</td>\n",
       "      <td>1</td>\n",
       "      <td>-1.125_29.574999.png</td>\n",
       "      <td>True</td>\n",
       "    </tr>\n",
       "    <tr>\n",
       "      <th>1</th>\n",
       "      <td>-1.116666</td>\n",
       "      <td>29.591666</td>\n",
       "      <td>-1.150315</td>\n",
       "      <td>29.591431</td>\n",
       "      <td>0.0</td>\n",
       "      <td>2.033755</td>\n",
       "      <td>1</td>\n",
       "      <td>-1.116666_29.591665999999996.png</td>\n",
       "      <td>True</td>\n",
       "    </tr>\n",
       "    <tr>\n",
       "      <th>2</th>\n",
       "      <td>-1.133333</td>\n",
       "      <td>29.591666</td>\n",
       "      <td>-1.150315</td>\n",
       "      <td>29.591431</td>\n",
       "      <td>0.0</td>\n",
       "      <td>2.033755</td>\n",
       "      <td>1</td>\n",
       "      <td>-1.133333_29.591665999999996.png</td>\n",
       "      <td>True</td>\n",
       "    </tr>\n",
       "    <tr>\n",
       "      <th>3</th>\n",
       "      <td>-1.150000</td>\n",
       "      <td>29.599999</td>\n",
       "      <td>-1.150315</td>\n",
       "      <td>29.591431</td>\n",
       "      <td>0.0</td>\n",
       "      <td>2.033755</td>\n",
       "      <td>1</td>\n",
       "      <td>-1.15_29.599999.png</td>\n",
       "      <td>True</td>\n",
       "    </tr>\n",
       "    <tr>\n",
       "      <th>4</th>\n",
       "      <td>-1.158333</td>\n",
       "      <td>29.608332</td>\n",
       "      <td>-1.150315</td>\n",
       "      <td>29.591431</td>\n",
       "      <td>0.0</td>\n",
       "      <td>2.033755</td>\n",
       "      <td>1</td>\n",
       "      <td>-1.158333_29.608332.png</td>\n",
       "      <td>True</td>\n",
       "    </tr>\n",
       "  </tbody>\n",
       "</table>\n",
       "</div>"
      ],
      "text/plain": [
       "     im_lat     im_lon  clust_lat  clust_lon  nightlight  consumption  \\\n",
       "0 -1.125000  29.574999  -1.150315  29.591431         0.0     2.033755   \n",
       "1 -1.116666  29.591666  -1.150315  29.591431         0.0     2.033755   \n",
       "2 -1.133333  29.591666  -1.150315  29.591431         0.0     2.033755   \n",
       "3 -1.150000  29.599999  -1.150315  29.591431         0.0     2.033755   \n",
       "4 -1.158333  29.608332  -1.150315  29.591431         0.0     2.033755   \n",
       "\n",
       "   nightlight_bin                            images  check  \n",
       "0               1              -1.125_29.574999.png   True  \n",
       "1               1  -1.116666_29.591665999999996.png   True  \n",
       "2               1  -1.133333_29.591665999999996.png   True  \n",
       "3               1               -1.15_29.599999.png   True  \n",
       "4               1           -1.158333_29.608332.png   True  "
      ]
     },
     "execution_count": 133,
     "metadata": {},
     "output_type": "execute_result"
    }
   ],
   "source": [
    "files = os.listdir('data/ims_{}'.format(run))\n",
    "df_download_info['check'] = df_download_info.images.apply(lambda x: (x in files))\n",
    "print(len(df_download_info)-df_download_info.check.sum())\n",
    "df_download_info.head()"
   ]
  },
  {
   "cell_type": "code",
   "execution_count": 134,
   "metadata": {},
   "outputs": [],
   "source": [
    "try:\n",
    "    assert len(df_download) == len(df_download_info)\n",
    "    # this means the script broke and you restarted it\n",
    "    # this is how I named images so it should work...\n",
    "#     This is wrong somehow \n",
    "#     df_download['images'] = df_download.apply(lambda x: str(x.im_lat) + '_' + str(x.im_lon) + '.png', axis=1)\n",
    "except:\n",
    "    print('broken')\n",
    "    print(len(df_download))\n",
    "    print(len(df_download_info))\n",
    "    df_download = df_download_info"
   ]
  },
  {
   "cell_type": "code",
   "execution_count": 136,
   "metadata": {},
   "outputs": [
    {
     "data": {
      "text/plain": [
       "((25246, 9), (33880, 7))"
      ]
     },
     "execution_count": 136,
     "metadata": {},
     "output_type": "execute_result"
    }
   ],
   "source": [
    "# we didn't download duplicate images which explains the difference\n",
    "df_download.shape, df_guide.shape"
   ]
  },
  {
   "cell_type": "code",
   "execution_count": 137,
   "metadata": {
    "scrolled": false
   },
   "outputs": [
    {
     "data": {
      "text/plain": [
       "636"
      ]
     },
     "execution_count": 137,
     "metadata": {},
     "output_type": "execute_result"
    }
   ],
   "source": [
    "len(df_guide.groupby(['clust_lat', 'clust_lon'])) # number of clusters"
   ]
  },
  {
   "cell_type": "code",
   "execution_count": 138,
   "metadata": {},
   "outputs": [],
   "source": [
    "# merges the images downloaded with the original dataframe\n",
    "df_sub = df_download[['im_lat', 'im_lon', 'images']]\n",
    "df = pd.merge(left=df_guide, right=df_sub, on=['im_lat', 'im_lon'])"
   ]
  },
  {
   "cell_type": "code",
   "execution_count": 139,
   "metadata": {},
   "outputs": [
    {
     "data": {
      "text/plain": [
       "((33880, 7), (33880, 8))"
      ]
     },
     "execution_count": 139,
     "metadata": {},
     "output_type": "execute_result"
    }
   ],
   "source": [
    "# I didn't download all the images and also I got rid of some image repeats, hence the difference\n",
    "df_guide.shape, df.shape"
   ]
  },
  {
   "cell_type": "code",
   "execution_count": 140,
   "metadata": {},
   "outputs": [
    {
     "data": {
      "text/html": [
       "<div>\n",
       "<style scoped>\n",
       "    .dataframe tbody tr th:only-of-type {\n",
       "        vertical-align: middle;\n",
       "    }\n",
       "\n",
       "    .dataframe tbody tr th {\n",
       "        vertical-align: top;\n",
       "    }\n",
       "\n",
       "    .dataframe thead th {\n",
       "        text-align: right;\n",
       "    }\n",
       "</style>\n",
       "<table border=\"1\" class=\"dataframe\">\n",
       "  <thead>\n",
       "    <tr style=\"text-align: right;\">\n",
       "      <th></th>\n",
       "      <th>im_lat</th>\n",
       "      <th>im_lon</th>\n",
       "      <th>clust_lat</th>\n",
       "      <th>clust_lon</th>\n",
       "      <th>nightlight</th>\n",
       "      <th>consumption</th>\n",
       "      <th>nightlight_bin</th>\n",
       "      <th>images</th>\n",
       "      <th>clust_num</th>\n",
       "    </tr>\n",
       "  </thead>\n",
       "  <tbody>\n",
       "    <tr>\n",
       "      <th>0</th>\n",
       "      <td>-1.125000</td>\n",
       "      <td>29.574999</td>\n",
       "      <td>-1.150315</td>\n",
       "      <td>29.591431</td>\n",
       "      <td>0.0</td>\n",
       "      <td>2.033755</td>\n",
       "      <td>1</td>\n",
       "      <td>-1.125_29.574999.png</td>\n",
       "      <td>11</td>\n",
       "    </tr>\n",
       "    <tr>\n",
       "      <th>1</th>\n",
       "      <td>-1.116666</td>\n",
       "      <td>29.591666</td>\n",
       "      <td>-1.150315</td>\n",
       "      <td>29.591431</td>\n",
       "      <td>0.0</td>\n",
       "      <td>2.033755</td>\n",
       "      <td>1</td>\n",
       "      <td>-1.116666_29.591665999999996.png</td>\n",
       "      <td>11</td>\n",
       "    </tr>\n",
       "    <tr>\n",
       "      <th>2</th>\n",
       "      <td>-1.133333</td>\n",
       "      <td>29.591666</td>\n",
       "      <td>-1.150315</td>\n",
       "      <td>29.591431</td>\n",
       "      <td>0.0</td>\n",
       "      <td>2.033755</td>\n",
       "      <td>1</td>\n",
       "      <td>-1.133333_29.591665999999996.png</td>\n",
       "      <td>11</td>\n",
       "    </tr>\n",
       "    <tr>\n",
       "      <th>3</th>\n",
       "      <td>-1.150000</td>\n",
       "      <td>29.599999</td>\n",
       "      <td>-1.150315</td>\n",
       "      <td>29.591431</td>\n",
       "      <td>0.0</td>\n",
       "      <td>2.033755</td>\n",
       "      <td>1</td>\n",
       "      <td>-1.15_29.599999.png</td>\n",
       "      <td>11</td>\n",
       "    </tr>\n",
       "    <tr>\n",
       "      <th>4</th>\n",
       "      <td>-1.158333</td>\n",
       "      <td>29.608332</td>\n",
       "      <td>-1.150315</td>\n",
       "      <td>29.591431</td>\n",
       "      <td>0.0</td>\n",
       "      <td>2.033755</td>\n",
       "      <td>1</td>\n",
       "      <td>-1.158333_29.608332.png</td>\n",
       "      <td>11</td>\n",
       "    </tr>\n",
       "  </tbody>\n",
       "</table>\n",
       "</div>"
      ],
      "text/plain": [
       "     im_lat     im_lon  clust_lat  clust_lon  nightlight  consumption  \\\n",
       "0 -1.125000  29.574999  -1.150315  29.591431         0.0     2.033755   \n",
       "1 -1.116666  29.591666  -1.150315  29.591431         0.0     2.033755   \n",
       "2 -1.133333  29.591666  -1.150315  29.591431         0.0     2.033755   \n",
       "3 -1.150000  29.599999  -1.150315  29.591431         0.0     2.033755   \n",
       "4 -1.158333  29.608332  -1.150315  29.591431         0.0     2.033755   \n",
       "\n",
       "   nightlight_bin                            images  clust_num  \n",
       "0               1              -1.125_29.574999.png         11  \n",
       "1               1  -1.116666_29.591665999999996.png         11  \n",
       "2               1  -1.133333_29.591665999999996.png         11  \n",
       "3               1               -1.15_29.599999.png         11  \n",
       "4               1           -1.158333_29.608332.png         11  "
      ]
     },
     "execution_count": 140,
     "metadata": {},
     "output_type": "execute_result"
    }
   ],
   "source": [
    "# adds a \"cluster number\" to the dataframe\n",
    "clust_group = df.groupby(['clust_lat', 'clust_lon'])\n",
    "clust_group = clust_group.first().reset_index()[['clust_lat', 'clust_lon']]\n",
    "clust_numbers = np.arange(len(clust_group))\n",
    "clust_group['clust_num'] = clust_numbers\n",
    "df = pd.merge(df, clust_group, on=['clust_lat', 'clust_lon'])\n",
    "df.head()"
   ]
  },
  {
   "cell_type": "markdown",
   "metadata": {},
   "source": [
    "I'm gonna add an _ to the images to show which cluster they come from"
   ]
  },
  {
   "cell_type": "code",
   "execution_count": 141,
   "metadata": {},
   "outputs": [
    {
     "data": {
      "text/html": [
       "<div>\n",
       "<style scoped>\n",
       "    .dataframe tbody tr th:only-of-type {\n",
       "        vertical-align: middle;\n",
       "    }\n",
       "\n",
       "    .dataframe tbody tr th {\n",
       "        vertical-align: top;\n",
       "    }\n",
       "\n",
       "    .dataframe thead th {\n",
       "        text-align: right;\n",
       "    }\n",
       "</style>\n",
       "<table border=\"1\" class=\"dataframe\">\n",
       "  <thead>\n",
       "    <tr style=\"text-align: right;\">\n",
       "      <th></th>\n",
       "      <th>im_lat</th>\n",
       "      <th>im_lon</th>\n",
       "      <th>clust_lat</th>\n",
       "      <th>clust_lon</th>\n",
       "      <th>nightlight</th>\n",
       "      <th>consumption</th>\n",
       "      <th>nightlight_bin</th>\n",
       "      <th>images</th>\n",
       "      <th>clust_num</th>\n",
       "      <th>images_renamed</th>\n",
       "    </tr>\n",
       "  </thead>\n",
       "  <tbody>\n",
       "    <tr>\n",
       "      <th>0</th>\n",
       "      <td>-1.125000</td>\n",
       "      <td>29.574999</td>\n",
       "      <td>-1.150315</td>\n",
       "      <td>29.591431</td>\n",
       "      <td>0.0</td>\n",
       "      <td>2.033755</td>\n",
       "      <td>1</td>\n",
       "      <td>-1.125_29.574999.png</td>\n",
       "      <td>11</td>\n",
       "      <td>-1.125_29.574999_11.png</td>\n",
       "    </tr>\n",
       "    <tr>\n",
       "      <th>1</th>\n",
       "      <td>-1.116666</td>\n",
       "      <td>29.591666</td>\n",
       "      <td>-1.150315</td>\n",
       "      <td>29.591431</td>\n",
       "      <td>0.0</td>\n",
       "      <td>2.033755</td>\n",
       "      <td>1</td>\n",
       "      <td>-1.116666_29.591665999999996.png</td>\n",
       "      <td>11</td>\n",
       "      <td>-1.116666_29.591665999999996_11.png</td>\n",
       "    </tr>\n",
       "    <tr>\n",
       "      <th>2</th>\n",
       "      <td>-1.133333</td>\n",
       "      <td>29.591666</td>\n",
       "      <td>-1.150315</td>\n",
       "      <td>29.591431</td>\n",
       "      <td>0.0</td>\n",
       "      <td>2.033755</td>\n",
       "      <td>1</td>\n",
       "      <td>-1.133333_29.591665999999996.png</td>\n",
       "      <td>11</td>\n",
       "      <td>-1.133333_29.591665999999996_11.png</td>\n",
       "    </tr>\n",
       "    <tr>\n",
       "      <th>3</th>\n",
       "      <td>-1.150000</td>\n",
       "      <td>29.599999</td>\n",
       "      <td>-1.150315</td>\n",
       "      <td>29.591431</td>\n",
       "      <td>0.0</td>\n",
       "      <td>2.033755</td>\n",
       "      <td>1</td>\n",
       "      <td>-1.15_29.599999.png</td>\n",
       "      <td>11</td>\n",
       "      <td>-1.15_29.599999_11.png</td>\n",
       "    </tr>\n",
       "    <tr>\n",
       "      <th>4</th>\n",
       "      <td>-1.158333</td>\n",
       "      <td>29.608332</td>\n",
       "      <td>-1.150315</td>\n",
       "      <td>29.591431</td>\n",
       "      <td>0.0</td>\n",
       "      <td>2.033755</td>\n",
       "      <td>1</td>\n",
       "      <td>-1.158333_29.608332.png</td>\n",
       "      <td>11</td>\n",
       "      <td>-1.158333_29.608332_11.png</td>\n",
       "    </tr>\n",
       "  </tbody>\n",
       "</table>\n",
       "</div>"
      ],
      "text/plain": [
       "     im_lat     im_lon  clust_lat  clust_lon  nightlight  consumption  \\\n",
       "0 -1.125000  29.574999  -1.150315  29.591431         0.0     2.033755   \n",
       "1 -1.116666  29.591666  -1.150315  29.591431         0.0     2.033755   \n",
       "2 -1.133333  29.591666  -1.150315  29.591431         0.0     2.033755   \n",
       "3 -1.150000  29.599999  -1.150315  29.591431         0.0     2.033755   \n",
       "4 -1.158333  29.608332  -1.150315  29.591431         0.0     2.033755   \n",
       "\n",
       "   nightlight_bin                            images  clust_num  \\\n",
       "0               1              -1.125_29.574999.png         11   \n",
       "1               1  -1.116666_29.591665999999996.png         11   \n",
       "2               1  -1.133333_29.591665999999996.png         11   \n",
       "3               1               -1.15_29.599999.png         11   \n",
       "4               1           -1.158333_29.608332.png         11   \n",
       "\n",
       "                        images_renamed  \n",
       "0              -1.125_29.574999_11.png  \n",
       "1  -1.116666_29.591665999999996_11.png  \n",
       "2  -1.133333_29.591665999999996_11.png  \n",
       "3               -1.15_29.599999_11.png  \n",
       "4           -1.158333_29.608332_11.png  "
      ]
     },
     "execution_count": 141,
     "metadata": {},
     "output_type": "execute_result"
    }
   ],
   "source": [
    "df['images_renamed'] = df.apply(lambda x: x.images[:-4] + '_' + str(x.clust_num) + '.png', axis=1)\n",
    "df.to_csv('data/output/{}_full_guide.csv'.format(run), index=False)\n",
    "df.head()"
   ]
  },
  {
   "cell_type": "code",
   "execution_count": 123,
   "metadata": {},
   "outputs": [],
   "source": [
    "# EDIT THIS OUT to keep only one copy of file in ims, no neeed for original renamed because shututil takes a long timeeeee\n",
    "# you can add other countries here under the structure images/<COUNTRY>/\n",
    "# os.makedirs('../images/ims_{}/ims'.format(run))\n",
    "\n",
    "# # this will copy images into a folder called ims\n",
    "# # this folder is helpful because the original folder has all unique images\n",
    "# # now, we need to duplicate those images and distinguish them by their new name (as made previously)\n",
    "# def create_im_renamed(x):\n",
    "#     shutil.copy('data/ims_{}/{}'.format(run, x.images), '../images/ims_{}/ims/{}'.format(run, x.images_renamed))        \n",
    "# df.apply(create_im_renamed,axis=1)"
   ]
  },
  {
   "cell_type": "markdown",
   "metadata": {},
   "source": [
    "Create train/valid folders\n",
    "\n",
    "The model will use these directly."
   ]
  },
  {
   "cell_type": "code",
   "execution_count": 142,
   "metadata": {},
   "outputs": [
    {
     "data": {
      "text/plain": [
       "27104"
      ]
     },
     "execution_count": 142,
     "metadata": {},
     "output_type": "execute_result"
    }
   ],
   "source": [
    "pic_list = df['images'].values.tolist()\n",
    "to_pick = int(0.8*len(pic_list)); to_pick"
   ]
  },
  {
   "cell_type": "code",
   "execution_count": 143,
   "metadata": {},
   "outputs": [],
   "source": [
    "inds = np.arange(len(pic_list))\n",
    "train_ind = np.random.choice(np.arange(len(pic_list)), to_pick, replace=False)\n",
    "valid_ind = np.delete(inds, train_ind)"
   ]
  },
  {
   "cell_type": "code",
   "execution_count": 144,
   "metadata": {},
   "outputs": [],
   "source": [
    "pic_list = np.array(pic_list)\n",
    "train_im = pic_list[train_ind]\n",
    "valid_im = pic_list[valid_ind]"
   ]
  },
  {
   "cell_type": "code",
   "execution_count": 145,
   "metadata": {},
   "outputs": [
    {
     "ename": "FileExistsError",
     "evalue": "[Errno 17] File exists: '../images/ims_uganda_2011/train'",
     "output_type": "error",
     "traceback": [
      "\u001b[0;31m---------------------------------------------------------------------------\u001b[0m",
      "\u001b[0;31mFileExistsError\u001b[0m                           Traceback (most recent call last)",
      "\u001b[0;32m<ipython-input-145-15aaabcc4908>\u001b[0m in \u001b[0;36m<module>\u001b[0;34m\u001b[0m\n\u001b[0;32m----> 1\u001b[0;31m \u001b[0mos\u001b[0m\u001b[0;34m.\u001b[0m\u001b[0mmakedirs\u001b[0m\u001b[0;34m(\u001b[0m\u001b[0;34m'../images/ims_{}/train'\u001b[0m\u001b[0;34m.\u001b[0m\u001b[0mformat\u001b[0m\u001b[0;34m(\u001b[0m\u001b[0mrun\u001b[0m\u001b[0;34m)\u001b[0m\u001b[0;34m,\u001b[0m \u001b[0mexist_ok\u001b[0m\u001b[0;34m=\u001b[0m\u001b[0;32mFalse\u001b[0m\u001b[0;34m)\u001b[0m\u001b[0;34m\u001b[0m\u001b[0;34m\u001b[0m\u001b[0m\n\u001b[0m\u001b[1;32m      2\u001b[0m \u001b[0mos\u001b[0m\u001b[0;34m.\u001b[0m\u001b[0mmakedirs\u001b[0m\u001b[0;34m(\u001b[0m\u001b[0;34m'../images/ims_{}/valid'\u001b[0m\u001b[0;34m.\u001b[0m\u001b[0mformat\u001b[0m\u001b[0;34m(\u001b[0m\u001b[0mrun\u001b[0m\u001b[0;34m)\u001b[0m\u001b[0;34m,\u001b[0m \u001b[0mexist_ok\u001b[0m\u001b[0;34m=\u001b[0m\u001b[0;32mFalse\u001b[0m\u001b[0;34m)\u001b[0m\u001b[0;34m\u001b[0m\u001b[0;34m\u001b[0m\u001b[0m\n",
      "\u001b[0;32m~/miniconda3/envs/geotorch/lib/python3.7/os.py\u001b[0m in \u001b[0;36mmakedirs\u001b[0;34m(name, mode, exist_ok)\u001b[0m\n\u001b[1;32m    219\u001b[0m             \u001b[0;32mreturn\u001b[0m\u001b[0;34m\u001b[0m\u001b[0;34m\u001b[0m\u001b[0m\n\u001b[1;32m    220\u001b[0m     \u001b[0;32mtry\u001b[0m\u001b[0;34m:\u001b[0m\u001b[0;34m\u001b[0m\u001b[0;34m\u001b[0m\u001b[0m\n\u001b[0;32m--> 221\u001b[0;31m         \u001b[0mmkdir\u001b[0m\u001b[0;34m(\u001b[0m\u001b[0mname\u001b[0m\u001b[0;34m,\u001b[0m \u001b[0mmode\u001b[0m\u001b[0;34m)\u001b[0m\u001b[0;34m\u001b[0m\u001b[0;34m\u001b[0m\u001b[0m\n\u001b[0m\u001b[1;32m    222\u001b[0m     \u001b[0;32mexcept\u001b[0m \u001b[0mOSError\u001b[0m\u001b[0;34m:\u001b[0m\u001b[0;34m\u001b[0m\u001b[0;34m\u001b[0m\u001b[0m\n\u001b[1;32m    223\u001b[0m         \u001b[0;31m# Cannot rely on checking for EEXIST, since the operating system\u001b[0m\u001b[0;34m\u001b[0m\u001b[0;34m\u001b[0m\u001b[0;34m\u001b[0m\u001b[0m\n",
      "\u001b[0;31mFileExistsError\u001b[0m: [Errno 17] File exists: '../images/ims_uganda_2011/train'"
     ]
    }
   ],
   "source": [
    "os.makedirs('../images/ims_{}/train'.format(run), exist_ok=False)\n",
    "os.makedirs('../images/ims_{}/valid'.format(run), exist_ok=False)"
   ]
  },
  {
   "cell_type": "code",
   "execution_count": 146,
   "metadata": {},
   "outputs": [],
   "source": [
    "t = df.iloc[train_ind]\n",
    "v = df.iloc[valid_ind]"
   ]
  },
  {
   "cell_type": "code",
   "execution_count": 148,
   "metadata": {},
   "outputs": [],
   "source": [
    "for fi, fn, l in zip(t['images'], t['images_renamed'], t['nightlight_bin']):\n",
    "    os.makedirs('../images/ims_{}/train/{}'.format(run, l), exist_ok=True)\n",
    "    shutil.copy('data/ims_{}/{}'.format(run, fi), '../images/ims_{}/train/{}/{}'.format(run, l, fn))\n",
    "for fi,fn, l in zip(v['images'],v['images_renamed'], v['nightlight_bin']):\n",
    "    os.makedirs('../images/ims_{}/valid/{}'.format(run, l), exist_ok=True)\n",
    "    shutil.copy('data/ims_{}/{}'.format(run, fi), '../images/ims_{}/valid/{}/{}'.format(run, l, fn))"
   ]
  },
  {
   "cell_type": "code",
   "execution_count": 149,
   "metadata": {},
   "outputs": [
    {
     "name": "stdout",
     "output_type": "stream",
     "text": [
      "11287\n",
      "7632\n",
      "8185\n"
     ]
    }
   ],
   "source": [
    "# shows count distribution in train folder\n",
    "for i in range(1,4):\n",
    "    print(len(os.listdir('../images/ims_{}/train/{}'.format(run,str(i)))))"
   ]
  },
  {
   "cell_type": "code",
   "execution_count": 150,
   "metadata": {},
   "outputs": [
    {
     "name": "stdout",
     "output_type": "stream",
     "text": [
      "2836\n",
      "1923\n",
      "2017\n"
     ]
    }
   ],
   "source": [
    "# shows count distribution in valid folder\n",
    "for i in range(1,4):\n",
    "    print(len(os.listdir('../images/ims_{}/valid/{}'.format(run, str(i)))))"
   ]
  }
 ],
 "metadata": {
  "kernelspec": {
   "display_name": "Python 3",
   "language": "python",
   "name": "python3"
  },
  "language_info": {
   "codemirror_mode": {
    "name": "ipython",
    "version": 3
   },
   "file_extension": ".py",
   "mimetype": "text/x-python",
   "name": "python",
   "nbconvert_exporter": "python",
   "pygments_lexer": "ipython3",
   "version": "3.7.5"
  }
 },
 "nbformat": 4,
 "nbformat_minor": 2
}
