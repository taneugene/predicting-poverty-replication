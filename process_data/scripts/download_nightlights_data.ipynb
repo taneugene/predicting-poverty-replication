{
 "cells": [
  {
   "cell_type": "code",
   "execution_count": 1,
   "metadata": {},
   "outputs": [],
   "source": [
    "import os\n",
    "import requests"
   ]
  },
  {
   "cell_type": "code",
   "execution_count": 2,
   "metadata": {},
   "outputs": [],
   "source": [
    "os.makedirs('../data/input/Nightlights')"
   ]
  },
  {
   "cell_type": "markdown",
   "metadata": {},
   "source": [
    "[Root Directory for the VIIRS data](https://ngdc.noaa.gov/eog/data/web_data/v4composites/)\n",
    "\n",
    "[Original data source with links to documentation](https://www.ngdc.noaa.gov/eog/dmsp/downloadV4composites.html)"
   ]
  },
  {
   "cell_type": "code",
   "execution_count": 4,
   "metadata": {},
   "outputs": [
    {
     "name": "stdout",
     "output_type": "stream",
     "text": [
      "2010\n",
      "2011\n",
      "2012\n",
      "2013\n"
     ]
    }
   ],
   "source": [
    "# these each take several minutes just to download\n",
    "# since I am only showing how to do this for Malawi 2016 data, \n",
    "# we really only need the 2013 data, as that is the closest year the NOAA maintains\n",
    "\n",
    "# edit[ET] - add the 2010-2012 data. \n",
    "for year in range(2010,2014):\n",
    "    print(year)\n",
    "    year = str(year)\n",
    "    url = 'https://ngdc.noaa.gov/eog/data/web_data/v4composites/F18' + year + '.v4.tar'\n",
    "    target = '../data/input/Nightlights/' + year\n",
    "    os.makedirs(target, exist_ok=True)\n",
    "    target += '/nightlights_data'\n",
    "    response = requests.get(url, stream=True)\n",
    "    if response.status_code == 200:\n",
    "        with open(target, 'wb') as f:\n",
    "            f.write(response.raw.read())"
   ]
  },
  {
   "cell_type": "code",
   "execution_count": 5,
   "metadata": {},
   "outputs": [],
   "source": [
    "import tarfile\n",
    "import gzip\n",
    "import shutil"
   ]
  },
  {
   "cell_type": "code",
   "execution_count": 8,
   "metadata": {},
   "outputs": [
    {
     "name": "stdout",
     "output_type": "stream",
     "text": [
      "2010\n",
      "2011\n",
      "2012\n",
      "2013\n"
     ]
    }
   ],
   "source": [
    "# this unzips the data\n",
    "for year in range(2010,2014):\n",
    "    print(year)\n",
    "    year = str(year)\n",
    "    folder_loc = '../data/input/Nightlights/' + year\n",
    "    file_loc = folder_loc + '/nightlights_data'\n",
    "    tar = tarfile.open(file_loc)\n",
    "    tar.extractall(path=folder_loc)\n",
    "    \n",
    "    files = os.listdir('../data/input/Nightlights/' + year)\n",
    "    for file in files:\n",
    "        path = '../data/input/Nightlights/' + year + '/' + file\n",
    "        if 'stable' in file: # only need stable_lights\n",
    "            if file.split('.')[-1] == 'gz':\n",
    "                # unzip the file is a .gz file\n",
    "                with gzip.open(path, 'rb') as f_in:\n",
    "                    with open(path[:-3], 'wb') as f_out:\n",
    "                        shutil.copyfileobj(f_in, f_out)\n",
    "        os.remove(path)"
   ]
  },
  {
   "cell_type": "code",
   "execution_count": null,
   "metadata": {},
   "outputs": [],
   "source": []
  }
 ],
 "metadata": {
  "kernelspec": {
   "display_name": "Python 3",
   "language": "python",
   "name": "python3"
  },
  "language_info": {
   "codemirror_mode": {
    "name": "ipython",
    "version": 3
   },
   "file_extension": ".py",
   "mimetype": "text/x-python",
   "name": "python",
   "nbconvert_exporter": "python",
   "pygments_lexer": "ipython3",
   "version": "3.7.5"
  }
 },
 "nbformat": 4,
 "nbformat_minor": 2
}
